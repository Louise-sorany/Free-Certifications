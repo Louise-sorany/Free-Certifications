{
  "nbformat": 4,
  "nbformat_minor": 0,
  "metadata": {
    "colab": {
      "provenance": [],
      "authorship_tag": "ABX9TyOi8sKfgQvbY7+FJ+LbDmKt",
      "include_colab_link": true
    },
    "kernelspec": {
      "name": "python3",
      "display_name": "Python 3"
    },
    "language_info": {
      "name": "python"
    }
  },
  "cells": [
    {
      "cell_type": "markdown",
      "metadata": {
        "id": "view-in-github",
        "colab_type": "text"
      },
      "source": [
        "<a href=\"https://colab.research.google.com/github/Louise-sorany/Free-Certifications/blob/main/Exerc%C3%ADcio_while_e_for_6.ipynb\" target=\"_parent\"><img src=\"https://colab.research.google.com/assets/colab-badge.svg\" alt=\"Open In Colab\"/></a>"
      ]
    },
    {
      "cell_type": "markdown",
      "source": [
        "#Usando o loop ´for´: considerando imprimir todos os números, exceto o número 13 (laço ´for´....in ´range´)"
      ],
      "metadata": {
        "id": "xDLdUjmeQ5Gd"
      }
    },
    {
      "cell_type": "code",
      "execution_count": 20,
      "metadata": {
        "colab": {
          "base_uri": "https://localhost:8080/"
        },
        "id": "09rxBZTzLIZz",
        "outputId": "df5eb004-d61c-4d26-a587-d06098167f52"
      },
      "outputs": [
        {
          "output_type": "stream",
          "name": "stdout",
          "text": [
            "20\n",
            "19\n",
            "18\n",
            "17\n",
            "16\n",
            "15\n",
            "14\n",
            "12\n",
            "11\n",
            "10\n",
            "9\n",
            "8\n",
            "7\n",
            "6\n",
            "5\n",
            "4\n",
            "3\n",
            "2\n",
            "1\n"
          ]
        }
      ],
      "source": [
        "# prompt: for andar in range (20, 0, -1)\n",
        "\n",
        "for andar in range(20, 0, -1):\n",
        "  if andar==13:\n",
        "    continue\n",
        "  print(andar)\n"
      ]
    },
    {
      "cell_type": "markdown",
      "source": [
        "#Usando o loop white\n"
      ],
      "metadata": {
        "id": "p716bWwuOGv3"
      }
    },
    {
      "cell_type": "code",
      "source": [
        "andar=20\n",
        "while True:\n",
        "  if andar !=13:\n",
        "    print(andar)\n",
        "    andar-=1\n",
        "    if andar==0:\n",
        "      break\n"
      ],
      "metadata": {
        "colab": {
          "base_uri": "https://localhost:8080/"
        },
        "id": "aIGYmWIuR3Gh",
        "outputId": "2d1dad9a-e057-4a4e-ce20-7a52311ead68"
      },
      "execution_count": null,
      "outputs": [
        {
          "output_type": "stream",
          "name": "stdout",
          "text": [
            "20\n",
            "19\n",
            "18\n",
            "17\n",
            "16\n",
            "15\n",
            "14\n"
          ]
        }
      ]
    },
    {
      "cell_type": "markdown",
      "source": [
        "#Imprimir todos os números exceto o 13 em ordem descendente\n"
      ],
      "metadata": {
        "id": "7QjyLm7LTyeg"
      }
    },
    {
      "cell_type": "code",
      "source": [
        "for i in range (20, 0, -1):\n",
        "  if(i==13):\n",
        "    continue\n",
        "    else:\n",
        "      print(1)"
      ],
      "metadata": {
        "id": "KUO-itvIUMp1"
      },
      "execution_count": null,
      "outputs": []
    }
  ]
}