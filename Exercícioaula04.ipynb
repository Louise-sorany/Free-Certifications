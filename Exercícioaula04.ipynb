{
  "nbformat": 4,
  "nbformat_minor": 0,
  "metadata": {
    "colab": {
      "provenance": [],
      "authorship_tag": "ABX9TyOp77PJYJ9OQKatkU0OzbM3",
      "include_colab_link": true
    },
    "kernelspec": {
      "name": "python3",
      "display_name": "Python 3"
    },
    "language_info": {
      "name": "python"
    }
  },
  "cells": [
    {
      "cell_type": "markdown",
      "metadata": {
        "id": "view-in-github",
        "colab_type": "text"
      },
      "source": [
        "<a href=\"https://colab.research.google.com/github/Louise-sorany/Free-Certifications/blob/main/Exerc%C3%ADcioaula04.ipynb\" target=\"_parent\"><img src=\"https://colab.research.google.com/assets/colab-badge.svg\" alt=\"Open In Colab\"/></a>"
      ]
    },
    {
      "cell_type": "code",
      "execution_count": 1,
      "metadata": {
        "colab": {
          "base_uri": "https://localhost:8080/"
        },
        "id": "yQlbRk63gCoq",
        "outputId": "f4a15707-abec-4f46-ae71-34596b63445e"
      },
      "outputs": [
        {
          "output_type": "stream",
          "name": "stdout",
          "text": [
            "IRÁ Aparecer:nome\n"
          ]
        },
        {
          "output_type": "execute_result",
          "data": {
            "text/plain": [
              "int"
            ]
          },
          "metadata": {},
          "execution_count": 1
        }
      ],
      "source": [
        "numero=10\n",
        "\n",
        "texto=\"nome\"\n",
        "\n",
        "estamosEmAula=True\n",
        "\n",
        "print(\"IRÁ Aparecer:\"+ texto)\n",
        "type(numero)\n"
      ]
    },
    {
      "cell_type": "code",
      "source": [
        "almoco_favorito=\"Lasanha\"\n",
        "preco_almoco=35.75\n",
        "orcamento=50\n",
        "saldo= orcamento-preco_almoco\n",
        "\n",
        "print(saldo)"
      ],
      "metadata": {
        "colab": {
          "base_uri": "https://localhost:8080/"
        },
        "id": "0TQOPX3vj7y7",
        "outputId": "30403bfc-0829-457c-f456-75243de8a0e4"
      },
      "execution_count": 5,
      "outputs": [
        {
          "output_type": "stream",
          "name": "stdout",
          "text": [
            "14.25\n"
          ]
        }
      ]
    },
    {
      "cell_type": "markdown",
      "source": [
        "Você convidará pessoas para almoçar, com um orçamento fixo contando os almoços e bebidas, veja se o seu orçamento é suficiente"
      ],
      "metadata": {
        "id": "Jn1eln8Orq9g"
      }
    }
  ]
}