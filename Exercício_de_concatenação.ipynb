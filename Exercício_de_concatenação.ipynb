{
  "nbformat": 4,
  "nbformat_minor": 0,
  "metadata": {
    "colab": {
      "provenance": [],
      "authorship_tag": "ABX9TyPpzAhmrTppqHW6aJBIaIU6",
      "include_colab_link": true
    },
    "kernelspec": {
      "name": "python3",
      "display_name": "Python 3"
    },
    "language_info": {
      "name": "python"
    }
  },
  "cells": [
    {
      "cell_type": "markdown",
      "metadata": {
        "id": "view-in-github",
        "colab_type": "text"
      },
      "source": [
        "<a href=\"https://colab.research.google.com/github/Louise-sorany/Free-Certifications/blob/main/Exerc%C3%ADcio_de_concatena%C3%A7%C3%A3o.ipynb\" target=\"_parent\"><img src=\"https://colab.research.google.com/assets/colab-badge.svg\" alt=\"Open In Colab\"/></a>"
      ]
    },
    {
      "cell_type": "code",
      "execution_count": 1,
      "metadata": {
        "colab": {
          "base_uri": "https://localhost:8080/"
        },
        "id": "4dlGfQ9WVxmM",
        "outputId": "09f08015-9f63-4d9b-ac4e-2cf1c1d26ed4"
      },
      "outputs": [
        {
          "output_type": "stream",
          "name": "stdout",
          "text": [
            "Bebida Favorita:cafe\n",
            "3.0\n",
            "False\n"
          ]
        }
      ],
      "source": [
        "bebida=\"cafe\"\n",
        "precobebida= 3.00\n",
        "alcoolico= False\n",
        "\n",
        "print(\"Bebida Favorita:\"+ bebida)\n",
        "print(precobebida)\n",
        "print(alcoolico)\n",
        "\n"
      ]
    }
  ]
}